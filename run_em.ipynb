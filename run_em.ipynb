{
 "cells": [
  {
   "cell_type": "code",
   "execution_count": 347,
   "metadata": {
    "collapsed": false
   },
   "outputs": [
    {
     "data": {
      "text/plain": [
       "'\\nApply EM algorithm to protein sequences\\n'"
      ]
     },
     "execution_count": 347,
     "metadata": {},
     "output_type": "execute_result"
    }
   ],
   "source": [
    "'''\n",
    "Apply EM algorithm to protein sequences\n",
    "'''"
   ]
  },
  {
   "cell_type": "code",
   "execution_count": 348,
   "metadata": {
    "collapsed": true
   },
   "outputs": [],
   "source": [
    "import sys\n",
    "import argparse\n",
    "\n",
    "import numpy as np"
   ]
  },
  {
   "cell_type": "code",
   "execution_count": 349,
   "metadata": {
    "collapsed": true
   },
   "outputs": [],
   "source": [
    "def normalize(array):\n",
    "    return array / sum(array)"
   ]
  },
  {
   "cell_type": "code",
   "execution_count": 350,
   "metadata": {
    "collapsed": true
   },
   "outputs": [],
   "source": [
    "def create_data(input_path, seqlen):\n",
    "    fin = open(input_path, 'r')\n",
    "    lines = fin.readlines()\n",
    "    # exclude first line which is for sequence description\n",
    "    lines = lines[1:]\n",
    "    if seqlen <= 0:\n",
    "        # if seqlen <= 0, use actual sequence length (excluding '\\n')\n",
    "        seqlen = len(lines[0])-1\n",
    "    array = np.array([list(line.strip()[:seqlen]) for line in lines if line.strip() != ''])\n",
    "    print(\"created data with size (%d, %d)\" % (len(array), seqlen))\n",
    "    \n",
    "    return array"
   ]
  },
  {
   "cell_type": "code",
   "execution_count": 351,
   "metadata": {
    "collapsed": true
   },
   "outputs": [],
   "source": [
    "def create_dictionary(data):\n",
    "    dict = {}\n",
    "    idx = 0\n",
    "    for char in np.nditer(data):\n",
    "        if char.tolist() not in dict:\n",
    "            dict[char.tolist()] = idx\n",
    "            idx += 1\n",
    "    print(\"created dictionary with %d characters\" % len(dict))\n",
    "\n",
    "    return dict"
   ]
  },
  {
   "cell_type": "code",
   "execution_count": 352,
   "metadata": {
    "collapsed": true
   },
   "outputs": [],
   "source": [
    "def create_membership(seqsize, numfamily):\n",
    "    \n",
    "    print(\"created membership matrix of size (%d, %d)\" % (seqsize, numfamily))\n",
    "    return np.apply_along_axis(\n",
    "        normalize, axis=1, arr=np.random.rand(seqsize, numfamily))"
   ]
  },
  {
   "cell_type": "code",
   "execution_count": 353,
   "metadata": {
    "collapsed": true
   },
   "outputs": [],
   "source": [
    "def create_prob(numfamily, numchar, seqlen):\n",
    "    \n",
    "    print(\"created probability matrix of size (%d, %d, %d)\" % (numfamily, numchar, seqlen))\n",
    "    return np.apply_along_axis(\n",
    "        normalize, axis=1, arr=np.random.rand(numfamily, numchar, seqlen))"
   ]
  },
  {
   "cell_type": "code",
   "execution_count": 354,
   "metadata": {
    "collapsed": true
   },
   "outputs": [],
   "source": [
    "def compute_membership(seq, family, dict, prob_mat):\n",
    "    likelihood = 1.0\n",
    "    for col, char in enumerate(seq):\n",
    "        likelihood *= prob_mat[family][dict[char]][col]\n",
    "    return likelihood"
   ]
  },
  {
   "cell_type": "code",
   "execution_count": 355,
   "metadata": {
    "collapsed": true
   },
   "outputs": [],
   "source": [
    "def save_result(input_path, idx, membership):\n",
    "    output_path = input_path[:input_path.index(\".\")]\n",
    "    f = open(\"%s_%d.txt\" % (output_path, idx), 'w')\n",
    "    for seq in membership:\n",
    "        f.write(\"%d %.2f\\n\" % (np.argmax(seq), seq[np.argmax(seq)]))"
   ]
  },
  {
   "cell_type": "code",
   "execution_count": 356,
   "metadata": {
    "collapsed": false
   },
   "outputs": [],
   "source": [
    "input_path = \"subseqs11.txt\"\n",
    "seqlen = 10\n",
    "numfamily = 5\n",
    "iters = 100\n",
    "savefreq = 10"
   ]
  },
  {
   "cell_type": "code",
   "execution_count": 357,
   "metadata": {
    "collapsed": false
   },
   "outputs": [
    {
     "name": "stdout",
     "output_type": "stream",
     "text": [
      "created data with size (312, 10)\n"
     ]
    },
    {
     "data": {
      "text/plain": [
       "array([['E', 'K', 'K', ..., 'L', 'G', 'E'],\n",
       "       ['E', 'K', 'K', ..., 'L', 'G', 'E'],\n",
       "       ['E', 'G', 'C', ..., 'G', 'S', 'A'],\n",
       "       ..., \n",
       "       ['P', 'I', 'F', ..., 'R', 'L', 'G'],\n",
       "       ['G', 'I', 'F', ..., 'E', 'N', 'G'],\n",
       "       ['G', 'I', 'F', ..., 'E', 'N', 'G']], \n",
       "      dtype='|S1')"
      ]
     },
     "execution_count": 357,
     "metadata": {},
     "output_type": "execute_result"
    }
   ],
   "source": [
    "# build data array for whole sequence\n",
    "data = create_data(input_path, seqlen)\n",
    "seqlen = data.shape[1]\n",
    "data"
   ]
  },
  {
   "cell_type": "code",
   "execution_count": 358,
   "metadata": {
    "collapsed": false
   },
   "outputs": [
    {
     "name": "stdout",
     "output_type": "stream",
     "text": [
      "created dictionary with 22 characters\n"
     ]
    },
    {
     "data": {
      "text/plain": [
       "{'-': 16,\n",
       " 'A': 10,\n",
       " 'C': 6,\n",
       " 'D': 12,\n",
       " 'E': 0,\n",
       " 'F': 8,\n",
       " 'G': 2,\n",
       " 'H': 3,\n",
       " 'I': 5,\n",
       " 'K': 1,\n",
       " 'L': 4,\n",
       " 'M': 17,\n",
       " 'N': 18,\n",
       " 'P': 15,\n",
       " 'Q': 19,\n",
       " 'R': 11,\n",
       " 'S': 9,\n",
       " 'T': 13,\n",
       " 'V': 7,\n",
       " 'W': 20,\n",
       " 'X': 21,\n",
       " 'Y': 14}"
      ]
     },
     "execution_count": 358,
     "metadata": {},
     "output_type": "execute_result"
    }
   ],
   "source": [
    "# build dictionary for amino acid from input data\n",
    "dict = create_dictionary(data)\n",
    "dict"
   ]
  },
  {
   "cell_type": "code",
   "execution_count": 359,
   "metadata": {
    "collapsed": false
   },
   "outputs": [
    {
     "name": "stdout",
     "output_type": "stream",
     "text": [
      "created membership matrix of size (312, 5)\n"
     ]
    },
    {
     "data": {
      "text/plain": [
       "array([ 0.02216724,  0.04895927,  0.02073381,  0.13232716,  0.12538002,\n",
       "        0.02351304,  0.16491289,  0.1952264 ,  0.24454695,  0.28752644,\n",
       "        0.12227778,  0.2302057 ,  0.13663157,  0.08490586,  0.2090415 ,\n",
       "        0.23914938,  0.19242978,  0.19210758,  0.46974275,  0.2413094 ,\n",
       "        0.07096122,  0.31004224,  0.21158041,  0.16076373,  0.19374209,\n",
       "        0.14028   ,  0.21513021,  0.08302746,  0.30833655,  0.12994471,\n",
       "        0.2697181 ,  0.16879741,  0.26556068,  0.23608297,  0.18060954,\n",
       "        0.17437202,  0.34459932,  0.22684193,  0.33973416,  0.25276794,\n",
       "        0.37487403,  0.27003457,  0.20006754,  0.15968976,  0.11294869,\n",
       "        0.27942811,  0.28923626,  0.15453418,  0.03386331,  0.36343357,\n",
       "        0.11702849,  0.45695093,  0.23450769,  0.350846  ,  0.08634306,\n",
       "        0.23789223,  0.03967877,  0.25803662,  0.37314665,  0.22421044,\n",
       "        0.21502526,  0.37389134,  0.25992727,  0.34828357,  0.17620215,\n",
       "        0.10411167,  0.14271734,  0.03687881,  0.08503055,  0.10142772,\n",
       "        0.1284689 ,  0.20204394,  0.20787347,  0.20388013,  0.40174704,\n",
       "        0.13435457,  0.29414827,  0.01794423,  0.22139572,  0.16445163,\n",
       "        0.17343641,  0.22393479,  0.16513809,  0.16286528,  0.20040747,\n",
       "        0.18487659,  0.14671308,  0.11190786,  0.16596148,  0.20647707,\n",
       "        0.19057208,  0.45631584,  0.25171911,  0.25084676,  0.03614067,\n",
       "        0.34260965,  0.05312479,  0.03249395,  0.26378439,  0.27461452,\n",
       "        0.24817286,  0.23579348,  0.18859869,  0.14123963,  0.1463947 ,\n",
       "        0.2804546 ,  0.36598025,  0.18365951,  0.16930598,  0.03948302,\n",
       "        0.08668061,  0.23643692,  0.08954281,  0.30625871,  0.38524402,\n",
       "        0.07091921,  0.18457449,  0.31397557,  0.22578304,  0.31319494,\n",
       "        0.16060909,  0.19292447,  0.18869243,  0.25868004,  0.29797767,\n",
       "        0.41118109,  0.28838652,  0.15585933,  0.25054531,  0.04811163,\n",
       "        0.05607044,  0.15160308,  0.15706453,  0.06065052,  0.3839629 ,\n",
       "        0.26602568,  0.18396025,  0.05298113,  0.33722943,  0.23807696,\n",
       "        0.26875834,  0.13142977,  0.25308875,  0.22421196,  0.20976693,\n",
       "        0.16168879,  0.20048156,  0.21896125,  0.23775108,  0.17371894,\n",
       "        0.25894445,  0.27760484,  0.35008841,  0.07687095,  0.22812939,\n",
       "        0.34313083,  0.1958985 ,  0.33251219,  0.125021  ,  0.01862874,\n",
       "        0.22872923,  0.02246767,  0.27213079,  0.19667242,  0.10205505,\n",
       "        0.23538794,  0.04899299,  0.12877389,  0.22382731,  0.22337625,\n",
       "        0.15662767,  0.18446613,  0.33168327,  0.05297851,  0.03444842,\n",
       "        0.46173929,  0.00330719,  0.30915154,  0.26502971,  0.04751226,\n",
       "        0.2979739 ,  0.35460523,  0.11773981,  0.16260896,  0.06748315,\n",
       "        0.28570449,  0.32996811,  0.26242413,  0.07075709,  0.04454046,\n",
       "        0.25027931,  0.14371327,  0.15876317,  0.30540015,  0.00049392,\n",
       "        0.22642864,  0.04203084,  0.41531246,  0.43752951,  0.27494749,\n",
       "        0.26889121,  0.25028141,  0.25515015,  0.22182139,  0.07313121,\n",
       "        0.33761121,  0.01213509,  0.329154  ,  0.21505719,  0.10744286,\n",
       "        0.12316969,  0.17948114,  0.19948363,  0.23203259,  0.05564439,\n",
       "        0.29046874,  0.00324199,  0.34208335,  0.18755782,  0.1875091 ,\n",
       "        0.24029469,  0.34607255,  0.23503536,  0.2943676 ,  0.25818241,\n",
       "        0.27297815,  0.12041996,  0.14633866,  0.09835243,  0.30544916,\n",
       "        0.29949492,  0.14700473,  0.19562242,  0.27925141,  0.22534467,\n",
       "        0.15226994,  0.13568188,  0.41098331,  0.24365376,  0.2637894 ,\n",
       "        0.1935932 ,  0.32801132,  0.25954431,  0.05392222,  0.39781109,\n",
       "        0.17795229,  0.07213377,  0.0723708 ,  0.42855301,  0.18043939,\n",
       "        0.25324084,  0.07355175,  0.00734448,  0.33425505,  0.13245494,\n",
       "        0.38291986,  0.14923857,  0.20952184,  0.47366028,  0.31259949,\n",
       "        0.20549836,  0.32187157,  0.14557124,  0.17774803,  0.21256907,\n",
       "        0.1137004 ,  0.2352423 ,  0.19167353,  0.21862545,  0.17090982,\n",
       "        0.11095004,  0.0238715 ,  0.29761334,  0.06532314,  0.38500584,\n",
       "        0.33697395,  0.10333415,  0.26754704,  0.14467574,  0.28038506,\n",
       "        0.13220425,  0.27609729,  0.31018865,  0.09929193,  0.02983218,\n",
       "        0.216687  ,  0.19815834,  0.1957306 ,  0.13582315,  0.07731815,\n",
       "        0.30277838,  0.12285657,  0.43906954,  0.05894339,  0.13785581,\n",
       "        0.0230166 ,  0.15276691,  0.01869509,  0.23906199,  0.3589031 ,\n",
       "        0.18034352,  0.12414479,  0.20856604,  0.24994561,  0.12388322,\n",
       "        0.19825585,  0.13435933,  0.03587094,  0.2225571 ,  0.4765666 ,\n",
       "        0.2651248 ,  0.24618542])"
      ]
     },
     "execution_count": 359,
     "metadata": {},
     "output_type": "execute_result"
    }
   ],
   "source": [
    "# initialize membership array for entire sequences: seqsize x numfamily\n",
    "membership = create_membership(len(data), numfamily)\n",
    "membership[:, 0]"
   ]
  },
  {
   "cell_type": "code",
   "execution_count": 360,
   "metadata": {
    "collapsed": false
   },
   "outputs": [
    {
     "name": "stdout",
     "output_type": "stream",
     "text": [
      "created probability matrix of size (5, 22, 10)\n"
     ]
    }
   ],
   "source": [
    "# initialize probability matrix for each family: numfamily x len(dict) x seqlen\n",
    "prob_mat = create_prob(numfamily, len(dict), seqlen)"
   ]
  },
  {
   "cell_type": "markdown",
   "metadata": {},
   "source": []
  },
  {
   "cell_type": "code",
   "execution_count": 361,
   "metadata": {
    "collapsed": false
   },
   "outputs": [
    {
     "name": "stdout",
     "output_type": "stream",
     "text": [
      "Running EM algorithm..\n",
      "  0th iter..\n",
      "  saving results on 0th iter..\n",
      "  10th iter..\n",
      "  saving results on 10th iter..\n",
      "  20th iter..\n",
      "  saving results on 20th iter..\n",
      "  30th iter..\n",
      "  saving results on 30th iter..\n",
      "  40th iter..\n",
      "  saving results on 40th iter..\n",
      "  50th iter..\n",
      "  saving results on 50th iter..\n",
      "  60th iter..\n",
      "  saving results on 60th iter..\n",
      "  70th iter..\n",
      "  saving results on 70th iter..\n",
      "  80th iter..\n",
      "  saving results on 80th iter..\n",
      "  90th iter..\n",
      "  saving results on 90th iter..\n",
      "DONE..\n"
     ]
    }
   ],
   "source": [
    "print(\"Running EM algorithm..\")\n",
    "for idx in xrange(iters):\n",
    "    if idx % 10 == 0:\n",
    "        print(\"  %dth iter..\" % idx)\n",
    "    if idx % savefreq == 0:\n",
    "        print(\"  saving results on %dth iter..\" % idx)\n",
    "        save_result(input_path, idx, membership)\n",
    "        \n",
    "    # Expectation\n",
    "    for family in xrange(1):\n",
    "        for col in xrange(seqlen):\n",
    "            for char in dict:\n",
    "                mask = data[:, col] != char\n",
    "                # if the $col of data contains no $char,\n",
    "                if np.ma.all(mask):\n",
    "                    prob_mat[family][dict[char]][col] = 0\n",
    "                # if the $col of data contains at least one $char,\n",
    "                else:    \n",
    "                    masked_array = np.ma.masked_array(membership[:, family], mask)\n",
    "                    np.ma.set_fill_value(masked_array, 0)\n",
    "                    prob_mat[family][dict[char]][col] = masked_array.sum() / sum(membership[:, family])\n",
    "                \n",
    "    # Maximization\n",
    "    for seqidx, seq in enumerate(data):\n",
    "        for family in xrange(numfamily):\n",
    "            membership[seqidx, family] = compute_membership(seq, family, dict, prob_mat)\n",
    "        membership[seqidx] = np.apply_along_axis(normalize, axis=0, arr=membership[seqidx])\n",
    "            \n",
    "        \n",
    "print(\"DONE..\")"
   ]
  },
  {
   "cell_type": "code",
   "execution_count": null,
   "metadata": {
    "collapsed": true
   },
   "outputs": [],
   "source": []
  }
 ],
 "metadata": {
  "kernelspec": {
   "display_name": "Python 2",
   "language": "python",
   "name": "python2"
  },
  "language_info": {
   "codemirror_mode": {
    "name": "ipython",
    "version": 2
   },
   "file_extension": ".py",
   "mimetype": "text/x-python",
   "name": "python",
   "nbconvert_exporter": "python",
   "pygments_lexer": "ipython2",
   "version": "2.7.10"
  }
 },
 "nbformat": 4,
 "nbformat_minor": 0
}
